{
 "cells": [
  {
   "cell_type": "markdown",
   "metadata": {
    "tags": []
   },
   "source": [
    "# Run pyCIAM"
   ]
  },
  {
   "cell_type": "code",
   "execution_count": 2,
   "metadata": {},
   "outputs": [],
   "source": [
    "%load_ext autoreload\n",
    "%autoreload 2"
   ]
  },
  {
   "cell_type": "code",
   "execution_count": 3,
   "metadata": {
    "tags": []
   },
   "outputs": [],
   "source": [
    "from pyCIAM.run import execute_pyciam\n",
    "from shared import (\n",
    "    AUTHOR,\n",
    "    CONTACT,\n",
    "    DIR_SCRATCH,\n",
    "    HISTORY,\n",
    "    PATH_OUTPUTS,\n",
    "    PATH_PARAMS,\n",
    "    PATH_REFA,\n",
    "    PATH_SLIIDERS,\n",
    "    PATH_SLIIDERS_SEG,\n",
    "    PATH_SLR_INT,\n",
    "    PATHS_SURGE_LOOKUP,\n",
    "    RES_VERS,\n",
    "    start_dask_cluster,\n",
    ")"
   ]
  },
  {
   "cell_type": "code",
   "execution_count": 5,
   "metadata": {
    "tags": [
     "parameters"
    ]
   },
   "outputs": [],
   "source": [
    "TMPPATH = DIR_SCRATCH / f\"pyCIAM_results_quantiles_prechunked_{RES_VERS}.zarr\"\n",
    "\n",
    "# When running on larger/scalable dask cluster, may wish to specify number of workers\n",
    "# Default is LocalCluster which will use the number of CPUs available on local machine\n",
    "# N_WORKERS = None\n",
    "N_WORKERS = 400\n",
    "\n",
    "SEG_CHUNKSIZE = 3\n",
    "\n",
    "SEG_ADM_SUBSET = None\n",
    "\n",
    "DESCRIPTION = \"Projected coastal damages from pyCIAM, using quantiles of SLR scenarios.\""
   ]
  },
  {
   "cell_type": "code",
   "execution_count": 7,
   "metadata": {},
   "outputs": [
    {
     "data": {
      "text/html": [
       "<div>\n",
       "    <div style=\"width: 24px; height: 24px; background-color: #e1e1e1; border: 3px solid #9D9D9D; border-radius: 5px; position: absolute;\"> </div>\n",
       "    <div style=\"margin-left: 48px;\">\n",
       "        <h3 style=\"margin-bottom: 0px;\">Client</h3>\n",
       "        <p style=\"color: #9D9D9D; margin-bottom: 0px;\">Client-396fa8ea-f432-11ee-aa5c-b61e4f9e4a61</p>\n",
       "        <table style=\"width: 100%; text-align: left;\">\n",
       "\n",
       "        <tr>\n",
       "        \n",
       "            <td style=\"text-align: left;\"><strong>Connection method:</strong> Cluster object</td>\n",
       "            <td style=\"text-align: left;\"><strong>Cluster type:</strong> dask_gateway.GatewayCluster</td>\n",
       "        \n",
       "        </tr>\n",
       "\n",
       "        \n",
       "            <tr>\n",
       "                <td style=\"text-align: left;\">\n",
       "                    <strong>Dashboard: </strong> <a href=\"/services/dask-gateway/clusters/jhub.819a47100b9d4490886627b4ccbc0273/status\" target=\"_blank\">/services/dask-gateway/clusters/jhub.819a47100b9d4490886627b4ccbc0273/status</a>\n",
       "                </td>\n",
       "                <td style=\"text-align: left;\"></td>\n",
       "            </tr>\n",
       "        \n",
       "\n",
       "        </table>\n",
       "\n",
       "        \n",
       "            <button style=\"margin-bottom: 12px;\" data-commandlinker-command=\"dask:populate-and-launch-layout\" data-commandlinker-args='{\"url\": \"/services/dask-gateway/clusters/jhub.819a47100b9d4490886627b4ccbc0273/status\" }'>\n",
       "                Launch dashboard in JupyterLab\n",
       "            </button>\n",
       "        \n",
       "\n",
       "        \n",
       "            <details>\n",
       "            <summary style=\"margin-bottom: 20px;\"><h3 style=\"display: inline;\">Cluster Info</h3></summary>\n",
       "            <div style='background-color: #f2f2f2; display: inline-block; padding: 10px; border: 1px solid #999999;'>\n",
       "  <h3>GatewayCluster</h3>\n",
       "  <ul>\n",
       "    <li><b>Name: </b>jhub.819a47100b9d4490886627b4ccbc0273\n",
       "    <li><b>Dashboard: </b><a href='/services/dask-gateway/clusters/jhub.819a47100b9d4490886627b4ccbc0273/status' target='_blank'>/services/dask-gateway/clusters/jhub.819a47100b9d4490886627b4ccbc0273/status</a>\n",
       "  </ul>\n",
       "</div>\n",
       "\n",
       "            </details>\n",
       "        \n",
       "\n",
       "    </div>\n",
       "</div>"
      ],
      "text/plain": [
       "<Client: 'tls://10.32.6.2:8786' processes=62 threads=62, memory=403.00 GiB>"
      ]
     },
     "execution_count": 7,
     "metadata": {},
     "output_type": "execute_result"
    }
   ],
   "source": [
    "client, cluster = start_dask_cluster()\n",
    "cluster.scale(N_WORKERS)\n",
    "client"
   ]
  },
  {
   "cell_type": "code",
   "execution_count": 11,
   "metadata": {
    "tags": []
   },
   "outputs": [
    {
     "name": "stderr",
     "output_type": "stream",
     "text": [
      "/srv/conda/envs/notebook/lib/python3.12/site-packages/distributed/client.py:3157: UserWarning: Sending large graph of size 10.33 MiB.\n",
      "This may cause some slowdown.\n",
      "Consider scattering data ahead of time and using futures.\n",
      "  warnings.warn(\n"
     ]
    }
   ],
   "source": [
    "execute_pyciam(\n",
    "    PATH_PARAMS,\n",
    "    PATH_SLIIDERS,\n",
    "    [PATH_SLR_INT],\n",
    "    [\"is\"],\n",
    "    PATH_REFA,\n",
    "    econ_input_path_seg=PATH_SLIIDERS_SEG,\n",
    "    output_path=PATH_OUTPUTS if SEG_ADM_SUBSET is None else None,\n",
    "    seg_var_subset=SEG_ADM_SUBSET,\n",
    "    surge_input_paths=PATHS_SURGE_LOOKUP,\n",
    "    tmp_output_path=TMPPATH,\n",
    "    quantiles=[0.5],\n",
    "    dask_client_func=lambda: client,\n",
    "    remove_tmpfile=False,\n",
    "    extra_attrs={\n",
    "        \"author\": AUTHOR,\n",
    "        \"contact\": CONTACT,\n",
    "        \"description\": DESCRIPTION,\n",
    "        \"history\": HISTORY,\n",
    "    },\n",
    ")"
   ]
  }
 ],
 "metadata": {
  "kernelspec": {
   "display_name": "Python 3 (ipykernel)",
   "language": "python",
   "name": "python3"
  },
  "language_info": {
   "codemirror_mode": {
    "name": "ipython",
    "version": 3
   },
   "file_extension": ".py",
   "mimetype": "text/x-python",
   "name": "python",
   "nbconvert_exporter": "python",
   "pygments_lexer": "ipython3",
   "version": "3.12.2"
  },
  "widgets": {
   "application/vnd.jupyter.widget-state+json": {
    "state": {},
    "version_major": 2,
    "version_minor": 0
   }
  }
 },
 "nbformat": 4,
 "nbformat_minor": 4
}
