{
 "cells": [
  {
   "cell_type": "markdown",
   "metadata": {
    "tags": []
   },
   "source": [
    "# Run pyCIAM"
   ]
  },
  {
   "cell_type": "code",
   "execution_count": 1,
   "metadata": {},
   "outputs": [],
   "source": [
    "%load_ext autoreload\n",
    "%autoreload 2"
   ]
  },
  {
   "cell_type": "code",
   "execution_count": 2,
   "metadata": {
    "tags": []
   },
   "outputs": [
    {
     "name": "stderr",
     "output_type": "stream",
     "text": [
      "/home/jovyan/git-repos/ice-sheet-impacts/code/shared.py:3: UserWarning: Shapely 2.0 is installed, but because PyGEOS is also installed, GeoPandas will still use PyGEOS by default for now. To force to use and test Shapely 2.0, you have to set the environment variable USE_PYGEOS=0. You can do this before starting the Python process, or in your code before importing geopandas:\n",
      "\n",
      "import os\n",
      "os.environ['USE_PYGEOS'] = '0'\n",
      "import geopandas\n",
      "\n",
      "In a future release, GeoPandas will switch to using Shapely by default. If you are using PyGEOS directly (calling PyGEOS functions on geometries from GeoPandas), this will then stop working and you are encouraged to migrate from PyGEOS to Shapely 2.0 (https://shapely.readthedocs.io/en/latest/migration_pygeos.html).\n",
      "  import geopandas as gpd\n",
      "/srv/conda/envs/notebook/lib/python3.10/site-packages/google/cloud/storage/transfer_manager.py:30: UserWarning: The module `transfer_manager` is a preview feature. Functionality and API may change. This warning will be removed in a future release.\n",
      "  warnings.warn(\n"
     ]
    }
   ],
   "source": [
    "from shared import (\n",
    "    AUTHOR,\n",
    "    CONTACT,\n",
    "    DIR_SCRATCH,\n",
    "    HISTORY,\n",
    "    PATH_OUTPUTS,\n",
    "    PATH_PARAMS,\n",
    "    PATH_REFA,\n",
    "    PATH_SLIIDERS,\n",
    "    PATH_SLIIDERS_SEG,\n",
    "    PATH_SLR_INT,\n",
    "    PATHS_SURGE_LOOKUP,\n",
    "    start_dask_cluster,\n",
    ")\n",
    "\n",
    "from pyCIAM.run import execute_pyciam"
   ]
  },
  {
   "cell_type": "code",
   "execution_count": 3,
   "metadata": {
    "tags": [
     "parameters"
    ]
   },
   "outputs": [],
   "source": [
    "TMPPATH = DIR_SCRATCH / \"pyCIAM_results_quantiles_prechunked.zarr\"\n",
    "\n",
    "# When running on larger/scalable dask cluster, may wish to specify number of workers\n",
    "# Default is LocalCluster which will use the number of CPUs available on local machine\n",
    "# N_WORKERS = None\n",
    "N_WORKERS = 400\n",
    "\n",
    "SEG_CHUNKSIZE = 3\n",
    "\n",
    "SEG_ADM_SUBSET = None\n",
    "\n",
    "DESCRIPTION = \"Projected coastal damages from pyCIAM, using quantiles of SLR scenarios.\""
   ]
  },
  {
   "cell_type": "code",
   "execution_count": 4,
   "metadata": {
    "tags": []
   },
   "outputs": [
    {
     "data": {
      "application/vnd.jupyter.widget-view+json": {
       "model_id": "3a7cbbe268f84b13abf65e004b6c8269",
       "version_major": 2,
       "version_minor": 0
      },
      "text/plain": [
       "VBox(children=(HTML(value='<h2>GatewayCluster</h2>'), HBox(children=(HTML(value='\\n<div>\\n<style scoped>\\n    …"
      ]
     },
     "metadata": {},
     "output_type": "display_data"
    }
   ],
   "source": [
    "client, cluster = start_dask_cluster()\n",
    "cluster.scale(N_WORKERS)\n",
    "cluster"
   ]
  },
  {
   "cell_type": "code",
   "execution_count": null,
   "metadata": {
    "tags": []
   },
   "outputs": [],
   "source": [
    "finished = execute_pyciam(\n",
    "    PATH_PARAMS,\n",
    "    PATH_SLIIDERS,\n",
    "    [PATH_SLR_INT],\n",
    "    [\"is\"],\n",
    "    PATH_REFA,\n",
    "    econ_input_path_seg=PATH_SLIIDERS_SEG,\n",
    "    output_path=PATH_OUTPUTS,\n",
    "    seg_var_subset=SEG_ADM_SUBSET,\n",
    "    surge_input_paths=PATHS_SURGE_LOOKUP,\n",
    "    tmp_output_path=TMPPATH,\n",
    "    quantiles=[0.5],\n",
    "    dask_client_func=lambda: client,\n",
    "    extra_attrs={\n",
    "        \"author\": AUTHOR,\n",
    "        \"contact\": CONTACT,\n",
    "        \"description\": DESCRIPTION,\n",
    "        \"history\": HISTORY,\n",
    "    },\n",
    ")"
   ]
  }
 ],
 "metadata": {
  "kernelspec": {
   "display_name": "Python 3 (ipykernel)",
   "language": "python",
   "name": "python3"
  },
  "language_info": {
   "codemirror_mode": {
    "name": "ipython",
    "version": 3
   },
   "file_extension": ".py",
   "mimetype": "text/x-python",
   "name": "python",
   "nbconvert_exporter": "python",
   "pygments_lexer": "ipython3",
   "version": "3.10.10"
  },
  "widgets": {
   "application/vnd.jupyter.widget-state+json": {
    "state": {},
    "version_major": 2,
    "version_minor": 0
   }
  }
 },
 "nbformat": 4,
 "nbformat_minor": 4
}
