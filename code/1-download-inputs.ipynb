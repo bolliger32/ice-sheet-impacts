{
 "cells": [
  {
   "cell_type": "code",
   "execution_count": 1,
   "id": "04f39815-7c1e-40c2-a9c9-2d619ba01c01",
   "metadata": {},
   "outputs": [],
   "source": [
    "%load_ext autoreload\n",
    "%autoreload 2"
   ]
  },
  {
   "cell_type": "code",
   "execution_count": 2,
   "id": "4c15a3c6-c718-480b-a5d6-1a4c577bf4aa",
   "metadata": {},
   "outputs": [],
   "source": [
    "from sliiders.settings import PATH_SLIIDERS"
   ]
  },
  {
   "cell_type": "code",
   "execution_count": 4,
   "id": "bc909d3a-ffa5-4720-86a5-ba73d02a986a",
   "metadata": {},
   "outputs": [],
   "source": [
    "import fsspec\n",
    "\n",
    "fs = fsspec.filesystem(\"gs\")"
   ]
  },
  {
   "cell_type": "code",
   "execution_count": 16,
   "id": "d8d2a779-a0a4-4c9a-94d4-50b1c5c39eeb",
   "metadata": {},
   "outputs": [
    {
     "data": {
      "text/plain": [
       "['rhg-data/impactlab-rhg/coastal/ciam_paper/data/raw/',\n",
       " 'rhg-data/impactlab-rhg/coastal/ciam_paper/data/raw/slr']"
      ]
     },
     "execution_count": 16,
     "metadata": {},
     "output_type": "execute_result"
    }
   ],
   "source": [
    "fs.ls(\"gs://rhg-data/impactlab-rhg/coastal/ciam_paper/data/raw\")"
   ]
  },
  {
   "cell_type": "code",
   "execution_count": 3,
   "id": "fbdfb356-dee5-4691-9487-28d93ddc0ae5",
   "metadata": {},
   "outputs": [
    {
     "data": {
      "text/plain": [
       "GSPath('gs://rhg-data/impactlab-rhg/coastal/sliiders/output/sliiders-v1.2.zarr')"
      ]
     },
     "execution_count": 3,
     "metadata": {},
     "output_type": "execute_result"
    }
   ],
   "source": [
    "PATH_SLIIDERS"
   ]
  },
  {
   "cell_type": "code",
   "execution_count": 2,
   "id": "4ee3d2a8-e917-4f4a-b380-dc705f65b5bb",
   "metadata": {},
   "outputs": [],
   "source": [
    "from pyCIAM.io import (\n",
    "    download_and_extract_from_zenodo,\n",
    "    download_and_extract_partial_zip,\n",
    "    get_zenodo_file_list,\n",
    ")\n",
    "\n",
    "from shared import PATH_SLIIDERS, DIR_SLR_AR6_RAW\n",
    "import requests"
   ]
  },
  {
   "cell_type": "code",
   "execution_count": 3,
   "id": "8ddf60ec-1221-48c7-8775-8af9c654db2f",
   "metadata": {},
   "outputs": [],
   "source": [
    "Z_URL_RECORDS = \"https://zenodo.org/api/records/{doi}\"\n",
    "\n",
    "Z_SLIIDERS_DOI = \"10714387\"\n",
    "Z_PYCIAM_DOI = \"8229860\"\n",
    "Z_AR6_DOI = \"6382554\""
   ]
  },
  {
   "cell_type": "code",
   "execution_count": 5,
   "id": "bdb3fa52-6544-4c84-8b22-f79903ed5c51",
   "metadata": {},
   "outputs": [],
   "source": [
    "sliiders_files = requests.get(Z_URL_RECORDS.format(doi=Z_SLIIDERS_DOI)).json()[\"files\"]\n",
    "download_and_extract_from_zenodo(PATH_SLIIDERS, sliiders_files, \"sliiders-v\")"
   ]
  },
  {
   "cell_type": "code",
   "execution_count": 8,
   "id": "25dae06c-058b-4bcc-8240-621cc04e3ea8",
   "metadata": {},
   "outputs": [
    {
     "name": "stdout",
     "output_type": "stream",
     "text": [
      "Downloading AR6 SLR projections: total, global...\n",
      "...Downloading total_ssp126_low_confidence_values.nc (attempt 1/5)\n",
      "...Writing total_ssp126_low_confidence_values.nc\n",
      "...Downloading total_ssp245_low_confidence_values.nc (attempt 1/5)\n",
      "...Writing total_ssp245_low_confidence_values.nc\n",
      "...Downloading total_ssp585_low_confidence_values.nc (attempt 1/5)\n",
      "...Writing total_ssp585_low_confidence_values.nc\n",
      "...Downloading total_ssp119_medium_confidence_values.nc (attempt 1/5)\n",
      "...Writing total_ssp119_medium_confidence_values.nc\n",
      "...Downloading total_ssp126_medium_confidence_values.nc (attempt 1/5)\n",
      "...Writing total_ssp126_medium_confidence_values.nc\n",
      "...Downloading total_ssp245_medium_confidence_values.nc (attempt 1/5)\n",
      "...Writing total_ssp245_medium_confidence_values.nc\n",
      "...Downloading total_ssp370_medium_confidence_values.nc (attempt 1/5)\n",
      "...Writing total_ssp370_medium_confidence_values.nc\n",
      "...Downloading total_ssp585_medium_confidence_values.nc (attempt 1/5)\n",
      "...Writing total_ssp585_medium_confidence_values.nc\n",
      "Downloading AR6 SLR projections: total, regional...\n",
      "...Downloading total_ssp126_low_confidence_values.nc (attempt 1/5)\n",
      "...Writing total_ssp126_low_confidence_values.nc\n",
      "...Downloading total_ssp245_low_confidence_values.nc (attempt 1/5)\n",
      "...Writing total_ssp245_low_confidence_values.nc\n",
      "...Downloading total_ssp585_low_confidence_values.nc (attempt 1/5)\n",
      "...Writing total_ssp585_low_confidence_values.nc\n",
      "...Downloading total_ssp119_medium_confidence_values.nc (attempt 1/5)\n",
      "...Writing total_ssp119_medium_confidence_values.nc\n",
      "...Downloading total_ssp126_medium_confidence_values.nc (attempt 1/5)\n",
      "...Writing total_ssp126_medium_confidence_values.nc\n",
      "...Downloading total_ssp245_medium_confidence_values.nc (attempt 1/5)\n",
      "...Writing total_ssp245_medium_confidence_values.nc\n",
      "...Downloading total_ssp370_medium_confidence_values.nc (attempt 1/5)\n",
      "...Writing total_ssp370_medium_confidence_values.nc\n",
      "...Downloading total_ssp585_medium_confidence_values.nc (attempt 1/5)\n",
      "...Writing total_ssp585_medium_confidence_values.nc\n",
      "Downloading AR6 SLR projections: verticallandmotion, regional...\n",
      "...Downloading verticallandmotion_ssp126_low_confidence_values.nc (attempt 1/5)\n",
      "...Writing verticallandmotion_ssp126_low_confidence_values.nc\n",
      "...Downloading verticallandmotion_ssp245_low_confidence_values.nc (attempt 1/5)\n",
      "...Writing verticallandmotion_ssp245_low_confidence_values.nc\n",
      "...Downloading verticallandmotion_ssp585_low_confidence_values.nc (attempt 1/5)\n",
      "...Writing verticallandmotion_ssp585_low_confidence_values.nc\n",
      "...Downloading verticallandmotion_ssp119_medium_confidence_values.nc (attempt 1/5)\n",
      "...Writing verticallandmotion_ssp119_medium_confidence_values.nc\n",
      "...Downloading verticallandmotion_ssp126_medium_confidence_values.nc (attempt 1/5)\n",
      "...Writing verticallandmotion_ssp126_medium_confidence_values.nc\n",
      "...Downloading verticallandmotion_ssp245_medium_confidence_values.nc (attempt 1/5)\n",
      "...Writing verticallandmotion_ssp245_medium_confidence_values.nc\n",
      "...Downloading verticallandmotion_ssp370_medium_confidence_values.nc (attempt 1/5)\n",
      "...Writing verticallandmotion_ssp370_medium_confidence_values.nc\n",
      "...Downloading verticallandmotion_ssp585_medium_confidence_values.nc (attempt 1/5)\n",
      "...Writing verticallandmotion_ssp585_medium_confidence_values.nc\n"
     ]
    }
   ],
   "source": [
    "ar6_files = requests.get(Z_URL_RECORDS.format(doi=Z_AR6_DOI)).json()[\"files\"]\n",
    "\n",
    "# get total SLR\n",
    "for scope, name in [(\"global\", \"ar6\"), (\"regional\", \"ar6-regional-confidence\")]:\n",
    "    print(f\"Downloading AR6 SLR projections: total, {scope}...\")\n",
    "    download_and_extract_from_zenodo(\n",
    "        DIR_SLR_AR6_RAW / scope,\n",
    "        ar6_files,\n",
    "        f\"{name}.zip\",\n",
    "        zip_glob=(f\"{name}/{scope}/confidence_output_files/**/ssp*/total_*values.nc\"),\n",
    "    )\n",
    "\n",
    "# get only the contribution of vertical land motion\n",
    "print(\"Downloading AR6 SLR projections: verticallandmotion, regional...\")\n",
    "download_and_extract_from_zenodo(\n",
    "    DIR_SLR_AR6_RAW / \"regional\",\n",
    "    ar6_files,\n",
    "    \"ar6-regional-confidence.zip\",\n",
    "    zip_glob=(\n",
    "        \"ar6-regional-confidence/regional/confidence_output_files/**/ssp*/\"\n",
    "        \"verticallandmotion_*values.nc\"\n",
    "    ),\n",
    ")"
   ]
  }
 ],
 "metadata": {
  "kernelspec": {
   "display_name": "Python 3 (ipykernel)",
   "language": "python",
   "name": "python3"
  },
  "language_info": {
   "codemirror_mode": {
    "name": "ipython",
    "version": 3
   },
   "file_extension": ".py",
   "mimetype": "text/x-python",
   "name": "python",
   "nbconvert_exporter": "python",
   "pygments_lexer": "ipython3",
   "version": "3.11.8"
  }
 },
 "nbformat": 4,
 "nbformat_minor": 5
}
