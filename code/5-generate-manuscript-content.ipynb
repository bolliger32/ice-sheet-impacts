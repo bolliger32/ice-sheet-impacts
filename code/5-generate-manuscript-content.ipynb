{
 "cells": [
  {
   "cell_type": "markdown",
   "id": "006a74e3-3030-42de-bf78-11e62c06b2c8",
   "metadata": {},
   "source": [
    "# Notebook for Generating Figures Used in Bolliger et al. (2024)\n",
    "\n",
    "This notebook processes the outputs of pyCIAM into the numbers and figures included in the text of the accompanying manuscript."
   ]
  },
  {
   "cell_type": "code",
   "execution_count": 1,
   "id": "0eb8a4d1-dcdf-48bb-b3f3-393d7c9d97f6",
   "metadata": {
    "editable": true,
    "slideshow": {
     "slide_type": ""
    },
    "tags": []
   },
   "outputs": [],
   "source": [
    "import warnings\n",
    "\n",
    "import geopandas as gpd\n",
    "import numpy as np\n",
    "import pandas as pd\n",
    "import seaborn as sns\n",
    "import shared\n",
    "import xarray as xr\n",
    "from cartopy import crs as ccrs\n",
    "from colorcet import cm\n",
    "from exactextract import exact_extract, feature\n",
    "from matplotlib import colors, rc_context, ticker\n",
    "from matplotlib import pyplot as plt"
   ]
  },
  {
   "cell_type": "markdown",
   "id": "590cfa56-d6a7-4aa7-bea8-f3fde88ebe29",
   "metadata": {
    "editable": true,
    "slideshow": {
     "slide_type": ""
    },
    "tags": []
   },
   "source": [
    "## Setup"
   ]
  },
  {
   "cell_type": "code",
   "execution_count": 2,
   "id": "8e205e9e-3033-403d-b354-3ed84bfcb6a7",
   "metadata": {
    "editable": true,
    "slideshow": {
     "slide_type": ""
    },
    "tags": []
   },
   "outputs": [],
   "source": [
    "params = pd.read_json(shared.PATH_PARAMS)[\"values\"]"
   ]
  },
  {
   "cell_type": "code",
   "execution_count": 25,
   "id": "f149781b-5cc5-41df-8eef-fee5558dde59",
   "metadata": {
    "editable": true,
    "slideshow": {
     "slide_type": ""
    },
    "tags": [
     "parameters"
    ]
   },
   "outputs": [],
   "source": [
    "DPI = \"figure\"\n",
    "PLOT_TEXT = True\n",
    "bl = \"ssp370_medium\"\n",
    "iss = [\"ssp370_medium_constant\", \"ssp370_medium_ant\", \"ssp370_medium_green\"]\n",
    "iss_labs = [\"Uniform (1cm)\", \"AIS (1cm)\", \"GrIS (1cm)\"]\n",
    "iss_cols = [\"coral\", \"dodgerblue\", \"limegreen\"]\n",
    "bl_col = \"grey\"\n",
    "sel_ssp = \"SSP2\"\n",
    "sel_iam = \"IIASA\"\n",
    "sel_cases = [\"noAdaptation\", \"optimalfixed\"]\n",
    "yrs = np.arange(params.model_start, 2101, 1)\n",
    "res_unit = \"adm1\""
   ]
  },
  {
   "cell_type": "markdown",
   "id": "b9a885d7-6525-47c4-9bcb-a9f47fcfeba3",
   "metadata": {
    "editable": true,
    "slideshow": {
     "slide_type": ""
    },
    "tags": []
   },
   "source": [
    "## Load and process data"
   ]
  },
  {
   "cell_type": "markdown",
   "id": "7af74b21-f2b0-485a-8025-c2d1e3467a80",
   "metadata": {},
   "source": [
    "### Load and process pyCIAM outputs"
   ]
  },
  {
   "cell_type": "code",
   "execution_count": 4,
   "id": "eedd973e-3176-4ff9-b763-385cb3bd297d",
   "metadata": {},
   "outputs": [],
   "source": [
    "res = xr.open_zarr(shared.PATH_OUTPUTS).squeeze(drop=True)\n",
    "\n",
    "# add NPV to results\n",
    "res[\"npv\"] = (\n",
    "    (res.costs * ((1 / (1 + params.dr)) ** (res.year - params.npv_start)).clip(max=1))\n",
    "    .sel(year=slice(params.npv_start, None))\n",
    "    .sum(\"year\")\n",
    ")\n",
    "gnpv = res.npv.sum(\"costtype\").sum(\"adm1\").load()\n",
    "\n",
    "selres = res.sel(\n",
    "    ssp=sel_ssp,\n",
    "    case=sel_cases,\n",
    "    iam=sel_iam,\n",
    ")\n",
    "\n",
    "costs2100 = selres.costs.sel(year=2100).sum(\"costtype\").load()\n",
    "npv = selres.npv.sum(\"costtype\").load()"
   ]
  },
  {
   "cell_type": "markdown",
   "id": "6822d708-0b2d-4237-87d9-5fbd57d216bc",
   "metadata": {},
   "source": [
    "### Load and process SLIIDERS, SLR, other econ data"
   ]
  },
  {
   "cell_type": "code",
   "execution_count": 5,
   "id": "de07df86-8f97-4be2-8071-b9472ca907dc",
   "metadata": {},
   "outputs": [],
   "source": [
    "inputs = xr.open_zarr(shared.PATH_SLIIDERS)\n",
    "\n",
    "slr = xr.open_zarr(shared.PATH_SLR_INT)\n",
    "slr_scens = slr.scenario[\n",
    "    ~(\n",
    "        slr.scenario.str.contains(\"ant\")\n",
    "        | slr.scenario.str.contains(\"green\")\n",
    "        | slr.scenario.str.contains(\"constant\")\n",
    "    )\n",
    "]\n",
    "slr_ser = slr.sel(scenario=slr_scens, quantile=0.5, year=2100).gsl_msl05.to_series()"
   ]
  },
  {
   "cell_type": "markdown",
   "id": "4f8b5df9-26ba-4235-b68e-ed35e66de1cc",
   "metadata": {},
   "source": [
    "## Calculate cost data"
   ]
  },
  {
   "cell_type": "code",
   "execution_count": 6,
   "id": "fdf809c1-80bd-4588-990d-b7bfacccb3cf",
   "metadata": {},
   "outputs": [
    {
     "data": {
      "text/plain": [
       "case          scenario              \n",
       "optimalfixed  ncc_is                    9.293709e+10\n",
       "              ssp119_medium             1.733640e+11\n",
       "              ssp119_medium_ant         1.742456e+11\n",
       "              ssp119_medium_constant    1.741029e+11\n",
       "              ssp119_medium_green       1.742317e+11\n",
       "                                            ...     \n",
       "noAdaptation  ssp585_low_green          6.478424e+12\n",
       "              ssp585_medium             4.848148e+12\n",
       "              ssp585_medium_ant         4.965769e+12\n",
       "              ssp585_medium_constant    4.956114e+12\n",
       "              ssp585_medium_green       4.961616e+12\n",
       "Name: costs, Length: 66, dtype: float32"
      ]
     },
     "execution_count": 6,
     "metadata": {},
     "output_type": "execute_result"
    }
   ],
   "source": [
    "cost_ser = costs2100.sum(\"adm1\").sel(case=[\"optimalfixed\", \"noAdaptation\"]).to_series()\n",
    "cost_ser"
   ]
  },
  {
   "cell_type": "code",
   "execution_count": 7,
   "id": "7cfc8bcb-0693-4906-8250-06825100f5c8",
   "metadata": {},
   "outputs": [],
   "source": [
    "# Total Costs in 2100 by Scenario (SSP2, IIASA)\n",
    "costs_df = (\n",
    "    costs2100.to_dataframe()\n",
    "    .reset_index()\n",
    "    .pivot(index=\"adm1\", columns=[\"scenario\", \"case\"], values=\"costs\")\n",
    ")\n",
    "costs_df.columns = [\n",
    "    \"costs2100_\" + \"_\".join(col).strip() for col in costs_df.columns.values\n",
    "]\n",
    "\n",
    "# NPV by Scenario (SSP2, IIASA)\n",
    "npv_df = (\n",
    "    npv.to_dataframe()\n",
    "    .reset_index()\n",
    "    .pivot(index=\"adm1\", columns=[\"scenario\", \"case\"], values=\"npv\")\n",
    ")\n",
    "npv_df.columns = [\"npv_\" + \"_\".join(col).strip() for col in npv_df.columns.values]"
   ]
  },
  {
   "cell_type": "code",
   "execution_count": 8,
   "id": "48f7a89b-9261-47b1-94cc-18de687f28d7",
   "metadata": {},
   "outputs": [],
   "source": [
    "def calc_diffs(arr, baseline=\"no_pulse\"):\n",
    "    \"\"\"Calculate the difference between pulse scenarios and baseline scenario.\"\"\"\n",
    "    if baseline == \"constant\":\n",
    "        matchstr = \"(?:green|ant|constant)\"\n",
    "    else:\n",
    "        matchstr = \"(?:green|ant)\"\n",
    "    out = arr.sel(scenario=arr.scenario.str.contains(matchstr))\n",
    "\n",
    "    baseline_vals = (\n",
    "        out.scenario.str.split(\"tmp\", sep=\"_\").sel(tmp=slice(2)).str.join(\"tmp\", \"_\")\n",
    "    )\n",
    "    if baseline == \"constant\":\n",
    "        baseline_vals = np.char.add(baseline_vals, \"_constant\")\n",
    "    return out - arr.sel(scenario=baseline_vals).values"
   ]
  },
  {
   "cell_type": "code",
   "execution_count": 9,
   "id": "d40ce448-4723-49f4-8029-9cf0d0e264a7",
   "metadata": {},
   "outputs": [],
   "source": [
    "# Calculate Costs in 2100 difference values (SSP2, IIASA)\n",
    "cdiff2100 = calc_diffs(costs2100)\n",
    "\n",
    "# Calculate Costs in 2100 difference of AIS, GrIS from Uniform pulse values (SSP2, IIASA)\n",
    "cdiff2100_uni = calc_diffs(costs2100, baseline=\"constant\")\n",
    "\n",
    "# Calculate NPV difference values (SSP2, IIASA)\n",
    "npvdiff = calc_diffs(npv)\n",
    "\n",
    "# Calculate NPV difference of AIS, GrIS from Uniform pulse values (SSP2, IIASA)\n",
    "npvdiff_uni = calc_diffs(npv, baseline=\"constant\")\n",
    "\n",
    "# aggregate into 1 array\n",
    "cdiff = xr.concat(\n",
    "    (cdiff2100, cdiff2100_uni), dim=pd.Index([\"no_pulse\", \"uniform\"], name=\"baseline\")\n",
    ")\n",
    "npvdiff = xr.concat(\n",
    "    (npvdiff, npvdiff_uni), dim=pd.Index([\"no_pulse\", \"uniform\"], name=\"baseline\")\n",
    ")\n",
    "diffs = xr.concat(\n",
    "    (cdiff, npvdiff), dim=pd.Index([\"costs_2100\", \"npv\"], name=\"cost_type\")\n",
    ")"
   ]
  },
  {
   "cell_type": "markdown",
   "id": "81fb7613-c35e-4970-b4c7-b672e6aa4f21",
   "metadata": {},
   "source": [
    "### NPV Totals for Paper Figs"
   ]
  },
  {
   "cell_type": "code",
   "execution_count": 20,
   "id": "2ad83d5b-fd03-4c12-a7a8-4e47eb1fea35",
   "metadata": {},
   "outputs": [
    {
     "data": {
      "text/plain": [
       "scenario\n",
       "ssp370_medium_constant    58.339226\n",
       "ssp370_medium_ant         63.376669\n",
       "ssp370_medium_green       48.212327\n",
       "Name: costs, dtype: float64"
      ]
     },
     "execution_count": 20,
     "metadata": {},
     "output_type": "execute_result"
    }
   ],
   "source": [
    "(\n",
    "    diffs.sel(\n",
    "        case=\"optimalfixed\", scenario=iss, baseline=\"no_pulse\", cost_type=\"npv\"\n",
    "    ).sum(\"adm1\")\n",
    "    / 1e9\n",
    ").to_series()"
   ]
  },
  {
   "cell_type": "code",
   "execution_count": 21,
   "id": "4b3b876e-53d6-4a6e-b70b-d7396c7cd040",
   "metadata": {},
   "outputs": [
    {
     "data": {
      "text/plain": [
       "9.745400636007176"
      ]
     },
     "execution_count": 21,
     "metadata": {},
     "output_type": "execute_result"
    }
   ],
   "source": [
    "(gnpv.sel(case=\"optimalfixed\", ssp=\"SSP2\", iam=\"IIASA\", scenario=bl) / 1e12).item()"
   ]
  },
  {
   "cell_type": "markdown",
   "id": "f3359c89-4d17-4484-a398-7b1339fcaa2c",
   "metadata": {},
   "source": [
    "## Join population/GDP values"
   ]
  },
  {
   "cell_type": "code",
   "execution_count": 22,
   "id": "65dd729a-6102-4828-a7a9-d9cc46eab1b8",
   "metadata": {},
   "outputs": [],
   "source": [
    "valid_ctrys = inputs.country.values\n",
    "valid_adm1s = np.unique(inputs.adm1)\n",
    "\n",
    "# intermediate data file from SLIIDERS generation that contains country-level GDP and\n",
    "# GDP per capita. We extract the 2020 values (most current available) in 2019\n",
    "# constant USD\n",
    "adm0_econ_data = (\n",
    "    pd.read_parquet(\n",
    "        shared.PATH_YPK_HIST,\n",
    "        filters=[(\"year\", \"=\", 2020), (\"ccode\", \"in\", valid_ctrys)],\n",
    "        columns=[\"rgdpna_19\", \"pop\"],\n",
    "    )\n",
    "    .rename(columns={\"rgdpna_19\": \"gdp\"})\n",
    "    .droplevel(\"year\")\n",
    ")"
   ]
  },
  {
   "cell_type": "code",
   "execution_count": 23,
   "id": "8b706a4f-e8d5-42ef-b81b-fa82ee77cd17",
   "metadata": {},
   "outputs": [],
   "source": [
    "cadm1 = gpd.read_file(shared.PATH_GADM, layer=\"ADM_1\")\n",
    "cadm1 = cadm1.loc[cadm1.GID_0.isin(valid_ctrys), [\"GID_0\", \"GID_1\", \"geometry\"]]\n",
    "\n",
    "# drop hong kong and macao b/c they are treated as individual adm0 in SLIIDERS\n",
    "cadm1 = cadm1.replace({\"GID_1\": {\"CHN.HKG\": \"HKG\", \"CHN.MAC\": \"MAC\"}})\n",
    "cadm1[\"GID_0\"] = cadm1.GID_0.where(cadm1.GID_1 != \"HKG\", \"HKG\").where(\n",
    "    cadm1.GID_1 != \"MAC\", \"MAC\"\n",
    ")\n",
    "\n",
    "# correct Ghana typo\n",
    "cadm1[\"GID_1\"] = cadm1.GID_1.str.replace(\"GHA\", \"GHA.\")\n",
    "\n",
    "# figure out which adm1s have no adm1 equivalent in this dataset\n",
    "only_adm0 = valid_ctrys[~np.isin(valid_ctrys, cadm1.GID_0.unique())]\n",
    "\n",
    "# add these in\n",
    "cadm0 = gpd.read_file(shared.PATH_GADM, layer=\"ADM_0\").set_index(\"GID_0\").geometry\n",
    "cadm1 = pd.concat(\n",
    "    (cadm1, cadm0.loc[only_adm0].reset_index().assign(GID_1=lambda x: x.GID_0))\n",
    ").reset_index()"
   ]
  },
  {
   "cell_type": "code",
   "execution_count": 26,
   "id": "3b5d8e78-d099-4b2f-9474-bbbd6b9bd97b",
   "metadata": {},
   "outputs": [
    {
     "name": "stderr",
     "output_type": "stream",
     "text": [
      ".: 100%|██████████| 100.0/100 [02:54<00:00,  1.74s/it]              \n",
      ".: 100%|██████████| 100.0/100 [02:45<00:00,  1.65s/it]              \n"
     ]
    }
   ],
   "source": [
    "vec = feature.GeoPandasFeatureSource(cadm1)\n",
    "with warnings.catch_warnings():\n",
    "    warnings.filterwarnings(\"ignore\", message=\"Spatial reference system\")\n",
    "    gdp_adm1 = exact_extract(shared.PATH_GRIDDED_GDP, vec, \"sum\", progress=True)\n",
    "    pop_adm1 = exact_extract(shared.PATH_LANDSCAN, vec, \"sum\", progress=True)"
   ]
  },
  {
   "cell_type": "code",
   "execution_count": 93,
   "id": "dc7197f0-e859-4b3e-8c15-ce15e815ac29",
   "metadata": {
    "scrolled": true
   },
   "outputs": [],
   "source": [
    "econ_data = pd.DataFrame(\n",
    "    {\n",
    "        \"gdp\": [i[\"properties\"][\"sum\"] for i in gdp_adm1],\n",
    "        \"pop\": [i[\"properties\"][\"sum\"] for i in pop_adm1],\n",
    "        \"adm0\": cadm1.GID_0.values,\n",
    "    },\n",
    "    index=cadm1.GID_1,\n",
    ")\n",
    "\n",
    "# calculate adm1:adm0 ratios for gdp and pop\n",
    "econ_data = econ_data.join(\n",
    "    econ_data.groupby(\"adm0\")\n",
    "    .sum()\n",
    "    .rename(columns={\"gdp\": \"gdp_adm0\", \"pop\": \"pop_adm0\"}),\n",
    "    on=\"adm0\",\n",
    ")\n",
    "\n",
    "# XPI is the one example where GADM + wang&sun yields 0 GDP but sliiders has non-0\n",
    "# so we give a gdp ratio of 1 for all of these cases. For all others, SLIIDERS\n",
    "# yields 0 GDP as well so we will multiply 0 * 1 = 0.\n",
    "# Same for IOT in pop_ratio\n",
    "econ_data[[\"gdp_ratio\", \"pop_ratio\"]] = (\n",
    "    econ_data[[\"gdp\", \"pop\"]] / econ_data[[\"gdp_adm0\", \"pop_adm0\"]].values\n",
    ")\n",
    "\n",
    "# multiply ratios by SLIIDERS intermediate data for adm0 and calculate gdppc adm1\n",
    "econ_data = econ_data[[\"adm0\", \"gdp_ratio\", \"pop_ratio\"]].join(\n",
    "    adm0_econ_data.rename(columns=lambda x: x + \"_adm0\"), on=\"adm0\"\n",
    ")\n",
    "\n",
    "\n",
    "for col in [\"gdp_ratio\", \"pop_ratio\"]:\n",
    "    econ_data[col] = econ_data[col].where(\n",
    "        econ_data[col].notnull()\n",
    "        | (\n",
    "            (econ_data.index != econ_data.adm0)\n",
    "            & (econ_data[col.split(\"_\")[0] + \"_adm0\"] != 0)\n",
    "        ),\n",
    "        1,\n",
    "    )\n",
    "\n",
    "econ_data = (\n",
    "    (econ_data[[\"gdp_ratio\", \"pop_ratio\"]] * econ_data[[\"gdp_adm0\", \"pop_adm0\"]].values)\n",
    "    .rename(columns={\"gdp_ratio\": \"gdp\", \"pop_ratio\": \"pop\"})\n",
    "    .assign(gdppc=lambda x: (x.gdp / x[\"pop\"]).fillna(0))\n",
    ")\n",
    "\n",
    "assert econ_data.notnull().all().all()"
   ]
  },
  {
   "cell_type": "code",
   "execution_count": 94,
   "id": "97955a4a-7a03-4146-b1e3-f948c7e52801",
   "metadata": {},
   "outputs": [],
   "source": [
    "# merge costs data with gdp data\n",
    "scisms = xr.merge(\n",
    "    [\n",
    "        diffs.to_dataset(name=\"costs\"),\n",
    "        econ_data.loc[diffs.adm1].to_xarray().rename(GID_1=\"adm1\"),\n",
    "    ]\n",
    ")\n",
    "\n",
    "# calculate fractions\n",
    "scisms[\"fgdp\"] = (scisms.costs / scisms.gdp).fillna(0)\n",
    "\n",
    "# when GDP is 0, replace fraction with 0, whether or not costs are also 0\n",
    "scisms[\"fgdp\"] = scisms.fgdp.where(~np.isinf(scisms.fgdp), 0)\n",
    "\n",
    "# do the same for baseline costs\n",
    "baseline_costs = xr.concat(\n",
    "    (\n",
    "        costs2100.drop_sel(scenario=diffs.scenario),\n",
    "        npv.drop_sel(scenario=diffs.scenario),\n",
    "    ),\n",
    "    dim=pd.Index([\"costs_2100\", \"npv\"], name=\"cost_type\"),\n",
    ")\n",
    "baseline_costs = xr.merge(\n",
    "    [\n",
    "        baseline_costs.to_dataset(name=\"costs\"),\n",
    "        econ_data.loc[diffs.adm1].to_xarray().rename(GID_1=\"adm1\"),\n",
    "    ]\n",
    ")\n",
    "baseline_costs[\"fgdp\"] = (baseline_costs.costs / baseline_costs.gdp).fillna(0)\n",
    "baseline_costs[\"fgdp\"] = baseline_costs.fgdp.where(~np.isinf(baseline_costs.fgdp), 0)"
   ]
  },
  {
   "cell_type": "markdown",
   "id": "f7f6df08-e709-4849-b106-c7d8a9ee7194",
   "metadata": {},
   "source": [
    "## Create figs"
   ]
  },
  {
   "cell_type": "markdown",
   "id": "c21ea15a-8e43-4ac7-a180-d89d6e19ed49",
   "metadata": {},
   "source": [
    "### Create spatial figures\n",
    "\n",
    "The actual figure displayed in the paper is stylistically modified via QGIS."
   ]
  },
  {
   "cell_type": "code",
   "execution_count": 95,
   "id": "919c6d2d-6b3d-449d-89a1-878a7ace3fd3",
   "metadata": {
    "editable": true,
    "slideshow": {
     "slide_type": ""
    },
    "tags": []
   },
   "outputs": [],
   "source": [
    "adm1_shps = cadm1.set_index(\"GID_1\").geometry.loc[valid_adm1s]\n",
    "map_proj = ccrs.Robinson().proj4_init\n",
    "\n",
    "\n",
    "def plot_vals(\n",
    "    arr,\n",
    "    scen,\n",
    "    fontsize=4,\n",
    "    cost_type=\"npv\",\n",
    "    case=\"optimalfixed\",\n",
    "    baseline=None,\n",
    "    ax=None,\n",
    "    figsize=(8, 3),\n",
    "    multiplier=100,\n",
    "    cax_loc=None,\n",
    "    title=None,\n",
    "    add_sum=False,\n",
    "    sum_plus=False,\n",
    "    plot_text=PLOT_TEXT,\n",
    "    **plot_kwargs,\n",
    "):\n",
    "    \"\"\"Plot one map of SC-ISM.\"\"\"\n",
    "    to_plot = arr.sel(scenario=scen, case=case, cost_type=cost_type)\n",
    "    if baseline is not None:\n",
    "        to_plot = to_plot.sel(baseline=baseline)\n",
    "    to_plot = to_plot.to_series() * multiplier\n",
    "\n",
    "    if ax is None:\n",
    "        fig, ax = plt.subplots(\n",
    "            figsize=figsize, subplot_kw={\"projection\": ccrs.Robinson()}\n",
    "        )\n",
    "    if \"legend\" in plot_kwargs and plot_kwargs[\"legend\"] and \"cax\" not in plot_kwargs:\n",
    "        plot_kwargs[\"cax\"] = ax.inset_axes(cax_loc)\n",
    "\n",
    "    ax = (\n",
    "        adm1_shps.to_frame()\n",
    "        .join(to_plot)\n",
    "        .to_crs(map_proj)\n",
    "        .plot(column=to_plot.name, ax=ax, **plot_kwargs)\n",
    "    )\n",
    "\n",
    "    ax.axis(\"off\")\n",
    "    if plot_text:\n",
    "        title_text = title\n",
    "        if add_sum:\n",
    "            title_text += \"\\n\"\n",
    "            if sum_plus:\n",
    "                title_text += \"+\"\n",
    "            this_sum = to_plot.sum() / multiplier\n",
    "            if this_sum > 1e12:\n",
    "                text = f\"${this_sum / 1e12:.3} Tn\"\n",
    "            else:\n",
    "                text = f\"${this_sum / 1e9:.3} Bn\"\n",
    "            title_text += text\n",
    "        ax.set_title(title_text, x=0, y=0.2, va=\"bottom\", ha=\"left\", fontsize=fontsize)\n",
    "    return ax\n",
    "\n",
    "\n",
    "def plot_maps(\n",
    "    data_var,\n",
    "    norm,\n",
    "    lower_cbar_ticks,\n",
    "    toplabel,\n",
    "    bottomlabel,\n",
    "    plot_text=PLOT_TEXT,\n",
    "    cmap=\"coolwarm\",\n",
    "    multiplier=100,\n",
    "    multiplier_raw=100,\n",
    "    add_sum=False,\n",
    "    fontsize=4,\n",
    "):\n",
    "    \"\"\"Plot 5-figure panel maps of SC-ISM.\"\"\"\n",
    "    if data_var == \"fgdp\":\n",
    "        kind = \"normalized\"\n",
    "    else:\n",
    "        kind = \"absolute\"\n",
    "\n",
    "    with rc_context({\"ytick.labelsize\": fontsize, \"xtick.labelsize\": fontsize}):\n",
    "        fig = plt.figure(figsize=(6.5, 4), constrained_layout=True)\n",
    "        gs = plt.GridSpec(5, 4, figure=fig, height_ratios=[1, 1, 1, 1, 0.1])\n",
    "        proj = ccrs.Robinson()\n",
    "        ax1 = fig.add_subplot(gs[0, 1:3], projection=proj)\n",
    "        ax2 = fig.add_subplot(gs[1, 1:3], projection=proj)\n",
    "        ax3 = fig.add_subplot(gs[2, :3], projection=proj)\n",
    "        ax4 = fig.add_subplot(gs[2, 1:], projection=proj)\n",
    "        ax5 = fig.add_subplot(gs[3, :3], projection=proj)\n",
    "        ax6 = fig.add_subplot(gs[3, 1:], projection=proj)\n",
    "        cax = fig.add_subplot(gs[4, 1:3])\n",
    "\n",
    "        top_legend_kwargs = {\n",
    "            \"format\": ticker.FixedFormatter([0.1, 1, 10, 100]),\n",
    "            \"ticks\": ticker.FixedLocator([0.1, 1, 10, 100]),\n",
    "            \"label\": None,\n",
    "        }\n",
    "        bottom_legend_kwargs = {\n",
    "            \"orientation\": \"horizontal\",\n",
    "            \"format\": ticker.FixedFormatter(lower_cbar_ticks),\n",
    "            \"ticks\": ticker.FixedLocator(lower_cbar_ticks),\n",
    "            \"label\": None,\n",
    "        }\n",
    "        if plot_text:\n",
    "            top_legend_kwargs[\"label\"] = toplabel\n",
    "            bottom_legend_kwargs[\"label\"] = bottomlabel\n",
    "        plot_vals(\n",
    "            baseline_costs[data_var],\n",
    "            bl,\n",
    "            multiplier=multiplier_raw,\n",
    "            legend=True,\n",
    "            cmap=\"Purples\",\n",
    "            norm=colors.LogNorm(vmin=0.1, vmax=100, clip=True),\n",
    "            ax=ax1,\n",
    "            cax_loc=[1.1, 0, 0.05, 1],\n",
    "            legend_kwds=top_legend_kwargs,\n",
    "            add_sum=add_sum,\n",
    "            title=\"(a)\\n\\nNPC (2005-2010)\\nBaseline SLR\",\n",
    "            fontsize=fontsize,\n",
    "            plot_text=plot_text,\n",
    "        )\n",
    "        plot_vals(\n",
    "            scisms[data_var],\n",
    "            bl + \"_constant\",\n",
    "            multiplier=multiplier,\n",
    "            baseline=\"no_pulse\",\n",
    "            norm=norm,\n",
    "            cmap=cmap,\n",
    "            ax=ax2,\n",
    "            add_sum=add_sum,\n",
    "            title=\"(b)\\n\\nUniform Pulse\\nSC-ISM (+1cm)\",\n",
    "            sum_plus=True,\n",
    "            plot_text=plot_text,\n",
    "            fontsize=fontsize,\n",
    "        )\n",
    "        plot_vals(\n",
    "            scisms[data_var],\n",
    "            bl + \"_ant\",\n",
    "            multiplier=multiplier,\n",
    "            baseline=\"no_pulse\",\n",
    "            norm=norm,\n",
    "            cmap=cmap,\n",
    "            ax=ax3,\n",
    "            add_sum=add_sum,\n",
    "            title=\"(c)\\n\\nAIS Pulse\\nSC-ISM (+1cm)\",\n",
    "            sum_plus=True,\n",
    "            fontsize=fontsize,\n",
    "            plot_text=plot_text,\n",
    "        )\n",
    "        plot_vals(\n",
    "            scisms[data_var],\n",
    "            bl + \"_ant\",\n",
    "            multiplier=multiplier,\n",
    "            baseline=\"uniform\",\n",
    "            norm=norm,\n",
    "            cmap=cmap,\n",
    "            ax=ax4,\n",
    "            add_sum=add_sum,\n",
    "            title=\"(e)\\n\\nAIS - Uniform\\nSC-ISM\",\n",
    "            sum_plus=True,\n",
    "            fontsize=fontsize,\n",
    "            plot_text=plot_text,\n",
    "        )\n",
    "        plot_vals(\n",
    "            scisms[data_var],\n",
    "            bl + \"_green\",\n",
    "            multiplier=multiplier,\n",
    "            baseline=\"no_pulse\",\n",
    "            norm=norm,\n",
    "            cmap=cmap,\n",
    "            ax=ax5,\n",
    "            add_sum=add_sum,\n",
    "            title=\"(d)\\n\\nGrIS Pulse\\nSC-ISM (+1cm)\",\n",
    "            sum_plus=True,\n",
    "            fontsize=fontsize,\n",
    "            plot_text=plot_text,\n",
    "        )\n",
    "        plot_vals(\n",
    "            scisms[data_var],\n",
    "            bl + \"_green\",\n",
    "            multiplier=multiplier,\n",
    "            baseline=\"uniform\",\n",
    "            norm=norm,\n",
    "            cmap=cmap,\n",
    "            ax=ax6,\n",
    "            legend=True,\n",
    "            cax=cax,\n",
    "            legend_kwds=bottom_legend_kwargs,\n",
    "            add_sum=add_sum,\n",
    "            title=\"(f)\\n\\nGrIS - Uniform\\nSC-ISM\",\n",
    "            sum_plus=True,\n",
    "            fontsize=fontsize,\n",
    "            plot_text=plot_text,\n",
    "        )\n",
    "\n",
    "        # save figure\n",
    "        fig.savefig(shared.PATHS_MAPS[kind], dpi=DPI)\n",
    "        return fig"
   ]
  },
  {
   "cell_type": "code",
   "execution_count": 96,
   "id": "a10d708c-d7f5-400d-8b99-3cecbf30bee1",
   "metadata": {
    "editable": true,
    "scrolled": true,
    "slideshow": {
     "slide_type": ""
    },
    "tags": []
   },
   "outputs": [
    {
     "data": {
      "image/png": "[encoded data removed]",
      "text/plain": [
       "<Figure size 650x400 with 7 Axes>"
      ]
     },
     "metadata": {},
     "output_type": "display_data"
    }
   ],
   "source": [
    "_ = plot_maps(\n",
    "    \"fgdp\",\n",
    "    colors.SymLogNorm(1e-3, vmin=-1, vmax=1),\n",
    "    [-1, -0.1, -0.01, -0.001, 0, 0.001, 0.01, 0.1, 1],\n",
    "    \"NPC\\n(% ADM1 GDP)\",\n",
    "    \"$\\\\Delta$ NPC\\n(% ADM1 GDP)\",\n",
    "    plot_text=PLOT_TEXT,\n",
    ")"
   ]
  },
  {
   "cell_type": "code",
   "execution_count": 97,
   "id": "c4469b1a-472c-4d34-a640-f86135fc1939",
   "metadata": {},
   "outputs": [],
   "source": [
    "_ = plot_maps(\n",
    "    \"costs\",\n",
    "    colors.SymLogNorm(1, vmin=-1000, vmax=1000),\n",
    "    [-1000, -100, -10, -1, 0, 1, 10, 100, 1000],\n",
    "    \"NPC\\n(Billion $2019))\",\n",
    "    \"$\\\\Delta$ NPC\\n(Million $2019)\",\n",
    "    multiplier=1e-6,\n",
    "    multiplier_raw=1e-9,\n",
    "    add_sum=True,\n",
    "    plot_text=PLOT_TEXT,\n",
    ")"
   ]
  },
  {
   "cell_type": "markdown",
   "id": "3db70580-181c-4ce3-afce-e01f422c118c",
   "metadata": {},
   "source": [
    "### Box-and-whisker"
   ]
  },
  {
   "cell_type": "code",
   "execution_count": 98,
   "id": "68afca0a-d0ba-4d15-ba67-f8a882a1fc52",
   "metadata": {},
   "outputs": [],
   "source": [
    "ssp_mtypes = [\"o\", \"^\", \"s\", \"P\", \"*\"]\n",
    "bl_scens = [str(i) for i in baseline_costs.scenario.values if \"ssp\" in i]\n",
    "bl_scens_labs = [s.upper().replace(\"_\", \" \") for s in bl_scens]"
   ]
  },
  {
   "cell_type": "code",
   "execution_count": 99,
   "id": "8e0562d5-9fe2-4c12-b37b-316d488e9fdb",
   "metadata": {},
   "outputs": [],
   "source": [
    "selcase = \"optimalfixed\"\n",
    "npvt = gnpv.sel(case=selcase)\n",
    "fig, ax = plt.subplots(figsize=(8, 6))\n",
    "bvals = []\n",
    "for pc, p in enumerate([\"constant\", \"ant\", \"green\"]):\n",
    "    avals = []\n",
    "    for i, s in enumerate(bl_scens):\n",
    "        avals += [\n",
    "            (npvt.sel(scenario=f\"{s}_{p}\") - npvt.sel(scenario=s)).values.flatten()\n",
    "            / 1e9\n",
    "        ]\n",
    "    bvals += [np.concatenate(avals)]\n",
    "bplot = ax.boxplot(bvals, vert=True, patch_artist=True, showfliers=False)\n",
    "ax.set_axisbelow(True)\n",
    "ax.grid(alpha=0.2, linestyle=\"--\")\n",
    "\n",
    "# fill with colors\n",
    "for patch, color in zip(bplot[\"boxes\"], iss_cols):\n",
    "    patch.set_facecolor(color)\n",
    "    patch.set_alpha(0.3)\n",
    "for median in bplot[\"medians\"]:\n",
    "    median.set_color(\"grey\")\n",
    "\n",
    "# Add points\n",
    "for i, b in enumerate(bvals):\n",
    "    ax.plot([i + 1] * len(b), b, \"o\", alpha=0.2, c=iss_cols[i])\n",
    "\n",
    "# Highlight SSP3-7.0, SSP2, IIASA point\n",
    "bl_idx = bl_scens.index(\"ssp370_medium\")\n",
    "sspiam_idx = 2\n",
    "for i, b in enumerate(bvals):\n",
    "    ax.plot(i + 1, b[10 * bl_idx + sspiam_idx], \"o\", alpha=0.6, c=\"black\")\n",
    "\n",
    "\n",
    "if PLOT_TEXT:\n",
    "    ax.set_title(\"SC-ISM: Difference in Global NPV from Baseline SLR (2005-2100)\")\n",
    "    ax.set_ylabel(\"$Billion 2019 USD\")\n",
    "    ax.set_xticklabels(iss_labs)\n",
    "else:\n",
    "    ax.set_xticklabels([None, None, None])\n",
    "plt.savefig(shared.PATH_BOXWHISKER, dpi=DPI)"
   ]
  },
  {
   "cell_type": "code",
   "execution_count": 100,
   "id": "08983383-b531-46b2-83be-394e88912a38",
   "metadata": {},
   "outputs": [
    {
     "data": {
      "text/plain": [
       "np.float64(0.2936059556441622)"
      ]
     },
     "execution_count": 100,
     "metadata": {},
     "output_type": "execute_result"
    }
   ],
   "source": [
    "# average % higher for AIS than GrIS, comparing like-to-like across scenarios\n",
    "np.mean([(bv1 - bv2) / bv2 for bv1, bv2 in zip(bvals[1], bvals[2])])"
   ]
  },
  {
   "cell_type": "code",
   "execution_count": 101,
   "id": "6ed0eee7-44d5-435f-b54f-87c5bff67c58",
   "metadata": {},
   "outputs": [
    {
     "name": "stdout",
     "output_type": "stream",
     "text": [
      "Uniform SC-ISM AR6 Max: 73.24500667153906\n",
      "AIS SC-ISM AR6 Max: 79.6371253518125\n",
      "GrIS SC-ISM AR6 Max: 62.121378597386716\n",
      "Uniform SC-ISM AR6 Min: 51.897633802379886\n",
      "AIS SC-ISM AR6 Min: 56.6613835072793\n",
      "GrIS SC-ISM AR6 Min: 43.83112837112598\n",
      "Uniform SC-ISM AR6 Median: 57.82968029877637\n",
      "AIS SC-ISM AR6 Median: 62.96950179686133\n",
      "GrIS SC-ISM AR6 Median: 48.68688835007519\n",
      "AIS > GrIS Avg. (%): 29.288596063951484\n",
      "AIS > GrIS Scenario-wise Avg. (%): 29.36059556441622\n",
      "AIS SC-ISM SSP3-7.0/SSP2/IIASA: 63.376669476867185\n",
      "GrIS SC-ISM SSP3-7.0/SSP2/IIASA: 48.212327039154296\n",
      "AIS > GrIS SSP3-7.0/SSP2/IIASA (%): 31.453247268893687\n"
     ]
    }
   ],
   "source": [
    "print(f\"Uniform SC-ISM AR6 Max: {np.max(bvals[0])}\")\n",
    "print(f\"AIS SC-ISM AR6 Max: {np.max(bvals[1])}\")\n",
    "print(f\"GrIS SC-ISM AR6 Max: {np.max(bvals[2])}\")\n",
    "\n",
    "print(f\"Uniform SC-ISM AR6 Min: {np.min(bvals[0])}\")\n",
    "print(f\"AIS SC-ISM AR6 Min: {np.min(bvals[1])}\")\n",
    "print(f\"GrIS SC-ISM AR6 Min: {np.min(bvals[2])}\")\n",
    "\n",
    "print(f\"Uniform SC-ISM AR6 Median: {np.median(bvals[0])}\")\n",
    "print(f\"AIS SC-ISM AR6 Median: {np.median(bvals[1])}\")\n",
    "print(f\"GrIS SC-ISM AR6 Median: {np.median(bvals[2])}\")\n",
    "print(\n",
    "    f\"AIS > GrIS Avg. (%): {100 * (np.absolute(np.mean(bvals[1]) - np.mean(bvals[2])) / np.mean(bvals[2]))}\"\n",
    ")\n",
    "print(\n",
    "    f\"AIS > GrIS Scenario-wise Avg. (%): {100 * np.mean([(bv1 - bv2) / bv2 for bv1,bv2 in zip(bvals[1], bvals[2])])}\"\n",
    ")\n",
    "\n",
    "sel_idx = 10 * bl_idx + sspiam_idx\n",
    "print(f\"AIS SC-ISM SSP3-7.0/SSP2/IIASA: {bvals[1][sel_idx]}\")\n",
    "print(f\"GrIS SC-ISM SSP3-7.0/SSP2/IIASA: {bvals[2][sel_idx]}\")\n",
    "print(\n",
    "    f\"AIS > GrIS SSP3-7.0/SSP2/IIASA (%): {100 * (np.absolute(bvals[1][sel_idx] - bvals[2][sel_idx]) / bvals[2][sel_idx])}\"\n",
    ")"
   ]
  },
  {
   "cell_type": "code",
   "execution_count": 102,
   "id": "617e5f9f-1ae1-479d-80a7-62b28893e045",
   "metadata": {},
   "outputs": [],
   "source": [
    "# create dataframe containing deciles of income per capita\n",
    "decile_df = (\n",
    "    scisms[[\"costs\", \"fgdp\", \"gdppc\"]]\n",
    "    .sel(\n",
    "        cost_type=\"npv\",\n",
    "        baseline=\"no_pulse\",\n",
    "        scenario=[bl + \"_\" + i for i in [\"constant\", \"ant\", \"green\"]],\n",
    "    )\n",
    "    .reset_coords(drop=True)\n",
    "    .to_dataframe()\n",
    ")\n",
    "decile_df = decile_df[(decile_df.fgdp > 0)]\n",
    "\n",
    "quantiles = decile_df.groupby([\"case\", \"scenario\"]).gdppc.quantile(\n",
    "    np.arange(0, 1.01, 0.1)\n",
    ")"
   ]
  },
  {
   "cell_type": "code",
   "execution_count": 103,
   "id": "3f500343",
   "metadata": {},
   "outputs": [],
   "source": [
    "decile_df = decile_df.assign(\n",
    "    decile=decile_df.groupby([\"case\", \"scenario\"])\n",
    "    .apply(\n",
    "        lambda x: pd.cut(x.gdppc, quantiles.loc[x.name], include_lowest=True).cat.codes\n",
    "        + 1\n",
    "    )\n",
    "    .droplevel([0, 1])\n",
    ").reset_index()\n",
    "\n",
    "# rename scenarios for visualization\n",
    "decile_df[\"scenario\"] = decile_df.scenario.replace(\n",
    "    {bl + \"_constant\": \"Uniform\", bl + \"_ant\": \"AIS\", bl + \"_green\": \"GrIS\"}\n",
    ")\n",
    "\n",
    "decile_df = decile_df.set_index([\"case\", \"scenario\", \"adm1\"])\n",
    "\n",
    "# ensure no unmatched values\n",
    "assert decile_df.decile.unique().min() == 1"
   ]
  },
  {
   "cell_type": "code",
   "execution_count": 104,
   "id": "a68b57f5-4949-474b-b4db-d109546e157d",
   "metadata": {},
   "outputs": [],
   "source": [
    "for i, title in [\n",
    "    (\"optimalfixed\", \"Optimal Adaptation\"),\n",
    "    (\"noAdaptation\", \"Reactive Adaptation\"),\n",
    "]:\n",
    "    with sns.axes_style(\"whitegrid\"):\n",
    "        for j, kind in [(\"costs\", \"$2019\"), (\"fgdp\", \"% GDP\")]:\n",
    "            fig, ax = plt.subplots(figsize=(7, 2.5), constrained_layout=True)\n",
    "            ax = sns.boxplot(\n",
    "                decile_df.loc[i],\n",
    "                x=\"decile\",\n",
    "                y=j,\n",
    "                hue=\"scenario\",\n",
    "                palette=iss_cols,\n",
    "                fliersize=0,\n",
    "                ax=ax,\n",
    "                legend=False,\n",
    "                patch_artist=True,\n",
    "                log_scale=True,\n",
    "            )\n",
    "\n",
    "            for p in ax.patches:\n",
    "                p.set_alpha(0.7)\n",
    "\n",
    "            if PLOT_TEXT:\n",
    "                ax.set_ylabel(f\"ADM1-level\\nSC-ISM\\n({kind})\")\n",
    "                ax.set_xlabel(\"2020 ADM1 Income Per Capital Decile\")\n",
    "                ax.set_title(\n",
    "                    f\"{title} (SSP3-7.0, SSP2, IIASA)\",\n",
    "                    ha=\"left\",\n",
    "                    x=0,\n",
    "                    fontweight=\"bold\",\n",
    "                )\n",
    "            else:\n",
    "                ax.set_xlabel(None)\n",
    "                ax.set_ylabel(None)\n",
    "\n",
    "            fig.savefig(\n",
    "                shared.DIR_FIGS\n",
    "                / f\"ypc19_DECILEgrouped_log10SCISM_{j}_ssp370_med_ssp2iiasa_byPulse_{i}.png\",\n",
    "                dpi=DPI,\n",
    "            )"
   ]
  },
  {
   "cell_type": "markdown",
   "id": "2d5cb7ee-24df-4bbb-a601-5c7da4b7a9eb",
   "metadata": {},
   "source": [
    "#### Calculate associated numbers for text"
   ]
  },
  {
   "cell_type": "code",
   "execution_count": 105,
   "id": "f911d31f-f10c-45a7-bebb-1aab623e2a42",
   "metadata": {},
   "outputs": [
    {
     "name": "stdout",
     "output_type": "stream",
     "text": [
      "Median Normalized SC-ISM, lowest decile: 1.50%\n",
      "Median Normalized SC-ISM, highest decile: 0.04%\n",
      "Ratio: 33.5\n"
     ]
    }
   ],
   "source": [
    "this = decile_df.loc[\"optimalfixed\"]\n",
    "m_lowest = this[this.decile == 1].fgdp.median()\n",
    "m_highest = this[this.decile == 10].fgdp.median()\n",
    "ratio = m_lowest / m_highest\n",
    "print(f\"Median Normalized SC-ISM, lowest decile: {m_lowest:.2%}\")\n",
    "print(f\"Median Normalized SC-ISM, highest decile: {m_highest:.2%}\")\n",
    "print(f\"Ratio: {ratio:.1f}\")"
   ]
  },
  {
   "cell_type": "code",
   "execution_count": 106,
   "id": "d4362ed6-c160-410b-9af1-b6a12bfc02b6",
   "metadata": {},
   "outputs": [
    {
     "name": "stdout",
     "output_type": "stream",
     "text": [
      "{8: np.float64(1.0819944157420944), 9: np.float64(1.3782636532551384), 10: np.float64(0.9896090209163468)}\n"
     ]
    }
   ],
   "source": [
    "this_ais = this.loc[\"AIS\"]\n",
    "this_gris = this.loc[\"GrIS\"]\n",
    "\n",
    "ratios = {\n",
    "    n: this_ais.loc[this_ais.decile == n, \"fgdp\"].mean()\n",
    "    / this_gris.loc[this_gris.decile == n, \"fgdp\"].mean()\n",
    "    for n in [8, 9, 10]\n",
    "}\n",
    "print(ratios)"
   ]
  },
  {
   "cell_type": "code",
   "execution_count": 107,
   "id": "739eb54e-0790-4bf7-9c7e-0443a37386ea",
   "metadata": {},
   "outputs": [
    {
     "name": "stdout",
     "output_type": "stream",
     "text": [
      "Median Normalized SC-ISM, lowest decile: 42.09%\n",
      "Median Normalized SC-ISM, highest decile: 0.28%\n",
      "Ratio: 149.0\n"
     ]
    }
   ],
   "source": [
    "this = decile_df.loc[\"noAdaptation\"]\n",
    "m_lowest = this[this.decile == 1].fgdp.median()\n",
    "m_highest = this[this.decile == 10].fgdp.median()\n",
    "ratio = m_lowest / m_highest\n",
    "print(f\"Median Normalized SC-ISM, lowest decile: {m_lowest:.2%}\")\n",
    "print(f\"Median Normalized SC-ISM, highest decile: {m_highest:.2%}\")\n",
    "print(f\"Ratio: {ratio:.1f}\")"
   ]
  },
  {
   "cell_type": "markdown",
   "id": "e8af0b3e-9c1c-4982-8efe-9c0900b4185d",
   "metadata": {},
   "source": [
    "### Global Optimal Strategy"
   ]
  },
  {
   "cell_type": "code",
   "execution_count": 108,
   "id": "b134c061-2d15-47e1-945b-68fa3de770df",
   "metadata": {},
   "outputs": [],
   "source": [
    "segshp = inputs[[\"seg_lon\", \"seg_lat\", \"seg\"]].to_dataframe()\n",
    "segshp = segshp.groupby(\"seg\")[[\"seg_lon\", \"seg_lat\"]].first()\n",
    "segshp = gpd.GeoSeries.from_xy(\n",
    "    segshp.seg_lon, segshp.seg_lat, crs=\"EPSG:4326\", name=\"geometry\"\n",
    ")\n",
    "\n",
    "name_key = {\n",
    "    0: \"No Action (reactive retreat only)\",\n",
    "    1: \"Protect (10-year extreme water level)\",\n",
    "    2: \"Protect (100-year extreme water level)\",\n",
    "    3: \"Protect (1,000-year extreme water level)\",\n",
    "    4: \"Protect (10,000-year extreme water level)\",\n",
    "    5: \"Retreat (1-year extreme water level)\",\n",
    "    6: \"Retreat (10-year extreme water level)\",\n",
    "    7: \"Retreat (100-year extreme water level)\",\n",
    "    8: \"Retreat (1,000-year extreme water level)\",\n",
    "    9: \"Retreat (10,000-year extreme water level)\",\n",
    "}\n",
    "\n",
    "oc = segshp.to_frame().join(\n",
    "    res.sel(iam=sel_iam, ssp=sel_ssp, scenario=bl).optimal_case.to_series()\n",
    ")\n",
    "oc[\"optimal_case_str\"] = oc.optimal_case.replace(name_key)\n",
    "oc = oc.sort_values(\"optimal_case\")"
   ]
  },
  {
   "cell_type": "code",
   "execution_count": 109,
   "id": "d8125fb3-690e-4853-bc31-8293b6143763",
   "metadata": {},
   "outputs": [
    {
     "name": "stderr",
     "output_type": "stream",
     "text": [
      "/opt/conda/lib/python3.12/site-packages/cartopy/io/__init__.py:241: DownloadWarning: Downloading: https://naturalearth.s3.amazonaws.com/10m_physical/ne_10m_coastline.zip\n",
      "  warnings.warn(f'Downloading: {url}', DownloadWarning)\n"
     ]
    }
   ],
   "source": [
    "fig, ax = plt.subplots(\n",
    "    figsize=(6.4, 3),\n",
    "    subplot_kw={\"projection\": ccrs.Robinson()},\n",
    "    constrained_layout=True,\n",
    ")\n",
    "cmaps = [\"grey\", cm.linear_ternary_blue_0_44_c57_r, cm.linear_ternary_red_0_50_c52_r]\n",
    "locs = [0.3, 0.5, 0.725]\n",
    "for ix, kind in enumerate([\"No Action\", \"Protect\", \"Retreat\"]):\n",
    "    this = oc[oc.optimal_case_str.str.contains(kind)]\n",
    "    names = this.groupby(this.optimal_case).first().optimal_case_str\n",
    "    ax = this.plot(\n",
    "        column=\"optimal_case\",\n",
    "        categorical=True,\n",
    "        cmap=cmaps[ix],\n",
    "        legend=True,\n",
    "        ax=ax,\n",
    "        legend_kwds={\n",
    "            \"bbox_to_anchor\": (locs[ix], 0.09),\n",
    "            \"bbox_transform\": fig.transFigure,\n",
    "            \"loc\": \"center\",\n",
    "            \"fontsize\": 4,\n",
    "            \"markerscale\": 0.2,\n",
    "        },\n",
    "        s=0.1,\n",
    "    )\n",
    "    legend = ax.get_legend()\n",
    "    [\n",
    "        leg.set_text(names[int(leg.get_text())])\n",
    "        for ix, leg in enumerate(legend.get_texts())\n",
    "    ]\n",
    "    if ix < 2:\n",
    "        ax.add_artist(ax.get_legend())\n",
    "ax.coastlines(alpha=0.5)\n",
    "ax.axis(\"off\")\n",
    "fig.savefig(shared.DIR_FIGS / \"adaptation-map.png\", dpi=DPI)"
   ]
  }
 ],
 "metadata": {
  "kernelspec": {
   "display_name": "Python 3 (ipykernel)",
   "language": "python",
   "name": "python3"
  },
  "language_info": {
   "codemirror_mode": {
    "name": "ipython",
    "version": 3
   },
   "file_extension": ".py",
   "mimetype": "text/x-python",
   "name": "python",
   "nbconvert_exporter": "python",
   "pygments_lexer": "ipython3",
   "version": "3.12.8"
  }
 },
 "nbformat": 4,
 "nbformat_minor": 5
}
