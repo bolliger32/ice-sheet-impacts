{
 "cells": [
  {
   "cell_type": "markdown",
   "id": "5468498c-bfaa-408b-ae36-841b16a69a3e",
   "metadata": {},
   "source": [
    "# Create pyCIAM Storm Costs Lookup Table"
   ]
  },
  {
   "cell_type": "markdown",
   "id": "f6bee218-9782-40bf-8772-d2288235d1b1",
   "metadata": {},
   "source": [
    "See the corresponding notebook in the pyCIAM github repo for more details. This is a time-consuming notebook that is not run in the code ocean capsule by default. Instead, we include the intermediate outputs as a pre-computed data file. You may run this notebook to reproduce this step if desired."
   ]
  },
  {
   "cell_type": "markdown",
   "id": "8590679c-89af-4eb6-a105-752fbb51440a",
   "metadata": {},
   "source": [
    "## Setup"
   ]
  },
  {
   "cell_type": "code",
   "execution_count": 4,
   "id": "afd03880-8e46-4d81-867d-bfb6505ea788",
   "metadata": {},
   "outputs": [],
   "source": [
    "import distributed as dd\n",
    "import pandas as pd\n",
    "from pyCIAM.surge import damage_funcs\n",
    "from pyCIAM.surge.lookup import create_surge_lookup\n",
    "from shared import (\n",
    "    PATH_PARAMS,\n",
    "    PATH_SLIIDERS,\n",
    "    PATH_SLIIDERS_SEG,\n",
    "    PATH_SLR_INT,\n",
    "    PATHS_SURGE_LOOKUP,\n",
    "    start_dask_cluster,\n",
    ")"
   ]
  },
  {
   "cell_type": "code",
   "execution_count": 9,
   "id": "47979c48-7fff-49b4-b445-ea6bf746fa37",
   "metadata": {
    "tags": [
     "parameters"
    ]
   },
   "outputs": [],
   "source": [
    "SEG_CHUNKSIZE = 50\n",
    "\n",
    "PARAMS = pd.read_json(PATH_PARAMS)[\"values\"]"
   ]
  },
  {
   "cell_type": "code",
   "execution_count": 10,
   "id": "6104bced",
   "metadata": {},
   "outputs": [],
   "source": [
    "DMF_I = getattr(damage_funcs, PARAMS.dmf + \"_i\")\n",
    "DDF_I = getattr(damage_funcs, PARAMS.ddf + \"_i\")"
   ]
  },
  {
   "cell_type": "code",
   "execution_count": null,
   "id": "dbb04b4a-14b8-4403-ad33-88bfe71bd8fc",
   "metadata": {},
   "outputs": [],
   "source": [
    "client, cluster = start_dask_cluster()\n",
    "cluster"
   ]
  },
  {
   "cell_type": "markdown",
   "id": "8cd85123-c954-41a4-9c50-13dbbbba8c97",
   "metadata": {},
   "source": [
    "## Run surge damage calculations for each combo"
   ]
  },
  {
   "cell_type": "code",
   "execution_count": 11,
   "id": "1e823775-0d12-4e52-93d1-7e3586913e65",
   "metadata": {
    "scrolled": true,
    "tags": []
   },
   "outputs": [],
   "source": [
    "futs = {}\n",
    "for kind, sliiders in [(\"seg_adm\", PATH_SLIIDERS), (\"seg\", PATH_SLIIDERS_SEG)]:\n",
    "    futs[kind] = create_surge_lookup(\n",
    "        sliiders,\n",
    "        [PATH_SLR_INT],\n",
    "        PATHS_SURGE_LOOKUP[kind],\n",
    "        kind,\n",
    "        PARAMS.at_start,\n",
    "        PARAMS.n_interp_pts_lslr,\n",
    "        PARAMS.n_interp_pts_rhdiff,\n",
    "        DDF_I,\n",
    "        DMF_I,\n",
    "        quantiles=[0.5],\n",
    "        start_year=PARAMS.model_start,\n",
    "        slr_0_years=PARAMS.slr_0_year,\n",
    "        client=client,\n",
    "        force_overwrite=True,\n",
    "        seg_chunksize=SEG_CHUNKSIZE,\n",
    "        mc_dim=\"quantile\",\n",
    "    )"
   ]
  },
  {
   "cell_type": "markdown",
   "id": "ab098b05-e797-43c2-94f5-59cdc13ee40e",
   "metadata": {},
   "source": [
    "## Close"
   ]
  },
  {
   "cell_type": "code",
   "execution_count": null,
   "id": "f941a509-7035-4105-8b79-88a97e759737",
   "metadata": {},
   "outputs": [],
   "source": [
    "# ensure completion and close cluster\n",
    "all_futs = futs[\"seg\"] + futs[\"seg_adm\"]\n",
    "dd.wait(all_futs)\n",
    "assert [f.status == \"finished\" for f in all_futs]\n",
    "finished = True"
   ]
  },
  {
   "cell_type": "code",
   "execution_count": null,
   "id": "15563792-1ba0-435a-9981-e2b15eaa8dcd",
   "metadata": {},
   "outputs": [],
   "source": [
    "client.cluster.close(), client.close()"
   ]
  }
 ],
 "metadata": {
  "kernelspec": {
   "display_name": "Python 3 (ipykernel)",
   "language": "python",
   "name": "python3"
  },
  "language_info": {
   "codemirror_mode": {
    "name": "ipython",
    "version": 3
   },
   "file_extension": ".py",
   "mimetype": "text/x-python",
   "name": "python",
   "nbconvert_exporter": "python",
   "pygments_lexer": "ipython3",
   "version": "3.12.4"
  },
  "widgets": {
   "application/vnd.jupyter.widget-state+json": {
    "state": {},
    "version_major": 2,
    "version_minor": 0
   }
  }
 },
 "nbformat": 4,
 "nbformat_minor": 5
}
